{
 "cells": [
  {
   "cell_type": "code",
   "execution_count": 13,
   "metadata": {},
   "outputs": [],
   "source": [
    "import math\n",
    "import numpy as np\n",
    "import matplotlib.pyplot as plt\n",
    "import pandas as pd\n",
    "from scipy import stats\n",
    "import statsmodels.formula.api as sm"
   ]
  },
  {
   "cell_type": "code",
   "execution_count": 14,
   "metadata": {},
   "outputs": [
    {
     "name": "stdout",
     "output_type": "stream",
     "text": [
      "Before reduce dimension  (30, 1)\n",
      "After reduce dimension  (30,)\n"
     ]
    }
   ],
   "source": [
    "# Importing the dataset\n",
    "dataset=pd.read_csv('Salary_Data.csv')\n",
    "\n",
    "# Import dataset\n",
    "# Placed at x-y axis\n",
    "x = dataset.iloc[:,:-1].values\n",
    "y = dataset.iloc[:,1].values\n",
    "print(\"Before reduce dimension \",x.shape)\n",
    "\n",
    "# Reduce the dimension for validation\n",
    "# Place the data to x axis\n",
    "x = np.squeeze(x)\n",
    "y = np.squeeze(y)\n",
    "print(\"After reduce dimension \",x.shape)"
   ]
  },
  {
   "cell_type": "code",
   "execution_count": 15,
   "metadata": {},
   "outputs": [
    {
     "data": {
      "image/png": "[encoded data removed]",
      "text/plain": [
       "<Figure size 432x288 with 1 Axes>"
      ]
     },
     "metadata": {
      "needs_background": "light"
     },
     "output_type": "display_data"
    }
   ],
   "source": [
    "# Visualising the dataset\n",
    "plt.scatter(x,y,color='red')\n",
    "plt.title('Salary vs Experience')\n",
    "plt.xlabel('Years of Experience')\n",
    "plt.ylabel('Salary')\n",
    "plt.show()"
   ]
  },
  {
   "cell_type": "code",
   "execution_count": 16,
   "metadata": {},
   "outputs": [
    {
     "data": {
      "text/plain": [
       "(5.3133333333333335, 7.785155555555554, 2.790189161249745)"
      ]
     },
     "execution_count": 16,
     "metadata": {},
     "output_type": "execute_result"
    }
   ],
   "source": [
    "# Mean\n",
    "def mean(x):\n",
    "    sum = 0.0\n",
    "    for i in x:\n",
    "        sum = sum + i\n",
    "    return sum / len(x)\n",
    "\n",
    "# Variance\n",
    "def var(x):\n",
    "    m = mean(x)\n",
    "    sum = 0.0\n",
    "    for i in x:\n",
    "        sub = (i - m) ** 2\n",
    "        sum = sum + sub\n",
    "    return sum / len(x)\n",
    "\n",
    "# Standard Deviation\n",
    "def std(x):\n",
    "    return math.sqrt(var(x))\n",
    "\n",
    "mean(x),var(x),std(x)"
   ]
  },
  {
   "cell_type": "code",
   "execution_count": 17,
   "metadata": {},
   "outputs": [
    {
     "data": {
      "text/plain": [
       "(5.3133333333333335, 7.785155555555556, 2.790189161249745)"
      ]
     },
     "execution_count": 17,
     "metadata": {},
     "output_type": "execute_result"
    }
   ],
   "source": [
    "# Library mean\n",
    "mean = np.mean(x)\n",
    "\n",
    "# Library variance\n",
    "var = np.var(x)\n",
    "\n",
    "# Library Standard Deviation\n",
    "std = np.std(x)\n",
    "\n",
    "mean,var,std"
   ]
  },
  {
   "cell_type": "code",
   "execution_count": 18,
   "metadata": {},
   "outputs": [],
   "source": [
    "class Linear_Regression():\n",
    "    def __init__(self):\n",
    "        self.__m = 0\n",
    "        self.__n = 0\n",
    "        \n",
    "    def Linear_Model(self,x,y):\n",
    "        mean_x = np.mean(x)\n",
    "        mean_y = np.mean(y)\n",
    "    \n",
    "        # Ordinary Least Square\n",
    "        Cov_xy = np.sum((x - mean_x) * (y - mean_y)) / np.size(x) # Covariance\n",
    "        Var_x  = np.sum((x - mean_x) ** 2) / np.size(x) # Variance\n",
    "    \n",
    "        m = Cov_xy / Var_x\n",
    "        n = np.mean(y) - m * np.mean(x)\n",
    "    \n",
    "        return m,n\n",
    "    \n",
    "    def fit(self,x,y):\n",
    "        self.__m,self.__n = self.Linear_Model(x,y)\n",
    "        \n",
    "    def predict(self,x):\n",
    "        y = self.__m * x + self.__n\n",
    "        return y"
   ]
  },
  {
   "cell_type": "code",
   "execution_count": 19,
   "metadata": {},
   "outputs": [],
   "source": [
    "class Metrics():\n",
    "    \"\"\"metrics for functions\"\"\"\n",
    "    def __init__(self):\n",
    "        None\n",
    "    \n",
    "    # Mean Squared Error\n",
    "    def mean_squared_error(self,y_train,y_pred):\n",
    "        mse = np.sum((y_pred - y_train) ** 2) / len(y_train)\n",
    "        return mse\n",
    "    #R Squared Score - Coefficient of Determination\n",
    "    def r_squared_score(self,y_train,y_pred,y = None,penalize = 0):\n",
    "        # sum of squared errors of our regression model\n",
    "        sse = np.sum((y_train - y_pred) ** 2)\n",
    "        # sum of squared errors of our baseline model.\n",
    "        sst = np.sum((y_train - np.mean(y_train)) ** 2)\n",
    "        # coefficient of determination\n",
    "        cod = 1 - (sse / sst)\n",
    "        \n",
    "        if penalize == 0:\n",
    "            return cod\n",
    "        elif penalize == 1:\n",
    "            # Adjusted R squared\n",
    "            acod = 1 - (1 - cod) * ((np.size(y) - 1) / (np.size(y) - np.size(y_train) - 1))\n",
    "            return acod\n",
    "        \n",
    "            "
   ]
  },
  {
   "cell_type": "code",
   "execution_count": 20,
   "metadata": {
    "scrolled": true
   },
   "outputs": [
    {
     "data": {
      "image/png": "[encoded data removed]",
      "text/plain": [
       "<Figure size 432x288 with 1 Axes>"
      ]
     },
     "metadata": {
      "needs_background": "light"
     },
     "output_type": "display_data"
    },
    {
     "data": {
      "image/png": "[encoded data removed]",
      "text/plain": [
       "<Figure size 432x288 with 1 Axes>"
      ]
     },
     "metadata": {
      "needs_background": "light"
     },
     "output_type": "display_data"
    }
   ],
   "source": [
    "#Importing the dataset\n",
    "dataset=pd.read_csv('Salary_Data.csv')\n",
    "\n",
    "X = dataset.iloc[:,:-1].values\n",
    "Y = dataset.iloc[:,1].values\n",
    "\n",
    "#Training set and Test set\n",
    "from sklearn.model_selection import train_test_split\n",
    "X_train,X_test,Y_train,Y_test = train_test_split(X,Y, test_size=1/3, random_state = 0)\n",
    "\n",
    "#Reduce the dimentionality for validation\n",
    "X_train = np.squeeze(X_train)\n",
    "X_test = np.squeeze(X_test)\n",
    "Y_train = np.squeeze(Y_train)\n",
    "Y_test = np.squeeze(Y_test)\n",
    "\n",
    "#Fitting Simple Linear Regression to the Training set\n",
    "regressor=Linear_Regression()\n",
    "regressor.fit(X_train,Y_train)\n",
    "\n",
    "#Predicting the Test set result\n",
    "Y_pred=regressor.predict(X_test)\n",
    "\n",
    "#Visualising the Training set\n",
    "plt.scatter(X_train,Y_train,color='red')\n",
    "plt.plot(X_train,regressor.predict(X_train),color='blue')\n",
    "plt.title('Salary vs Experience(Training set)')\n",
    "plt.xlabel('Years of Experience')\n",
    "plt.ylabel('Salary')\n",
    "plt.show()\n",
    "\n",
    "#Visualising the Test set\n",
    "plt.scatter(X_test,Y_test,color='red')\n",
    "plt.plot(X_train,regressor.predict(X_train),color='blue')\n",
    "plt.title('Salary vs Experience(Test set)')\n",
    "plt.xlabel('Years of Experience')\n",
    "plt.ylabel('Salary')\n",
    "plt.show()"
   ]
  },
  {
   "cell_type": "code",
   "execution_count": 21,
   "metadata": {},
   "outputs": [
    {
     "name": "stdout",
     "output_type": "stream",
     "text": [
      "Mean Squared Error:  36852948.76438455\n",
      "Coefficient of Determination:  0.9381900012894278\n",
      "Adjusted R Squared:  0.8008344485992672\n"
     ]
    }
   ],
   "source": [
    "metrics = Metrics()\n",
    "\n",
    "#Mean squared error regression loss\n",
    "print('Mean Squared Error: ',metrics.mean_squared_error(Y_train,regressor.predict(X_train)))\n",
    "\n",
    "#R squared score - Coefficient of determination\n",
    "print('Coefficient of Determination: ',metrics.r_squared_score(Y_train,regressor.predict(X_train),penalize = 0))\n",
    "\n",
    "#Adjusted R squared score - Coefficient of determination\n",
    "print('Adjusted R Squared: ',metrics.r_squared_score(Y_train,regressor.predict(X_train),Y,penalize = 1))"
   ]
  },
  {
   "cell_type": "code",
   "execution_count": 24,
   "metadata": {},
   "outputs": [
    {
     "data": {
      "image/png": "[encoded data removed]",
      "text/plain": [
       "<Figure size 432x288 with 1 Axes>"
      ]
     },
     "metadata": {
      "needs_background": "light"
     },
     "output_type": "display_data"
    },
    {
     "data": {
      "image/png": "[encoded data removed]",
      "text/plain": [
       "<Figure size 432x288 with 1 Axes>"
      ]
     },
     "metadata": {
      "needs_background": "light"
     },
     "output_type": "display_data"
    }
   ],
   "source": [
    "#Importing the dataset\n",
    "dataset=pd.read_csv('Salary_Data.csv')\n",
    "\n",
    "X = dataset.iloc[:,:-1].values\n",
    "Y = dataset.iloc[:,1].values\n",
    "\n",
    "#Training set and Test set\n",
    "from sklearn.model_selection import train_test_split\n",
    "X_train,X_test,Y_train,Y_test = train_test_split(X,Y, test_size=1/3, random_state = 0)\n",
    "\n",
    "#Fitting Simple Linear Regression to the Training set\n",
    "from sklearn.linear_model import LinearRegression\n",
    "regressor=LinearRegression()\n",
    "regressor.fit(X_train,Y_train)\n",
    "\n",
    "#Predicting the Test set result\n",
    "Y_pred=regressor.predict(X_test)\n",
    "\n",
    "#Visualising the Training set\n",
    "plt.scatter(X_train,Y_train,color='red')\n",
    "plt.plot(X_train,regressor.predict(X_train),color='blue')\n",
    "plt.title('Salary vs Experience(Training set)')\n",
    "plt.xlabel('Years of Experience')\n",
    "plt.ylabel('Salary')\n",
    "plt.show()\n",
    "\n",
    "#Visualising the Test set\n",
    "plt.scatter(X_test,Y_test,color='red')\n",
    "plt.plot(X_train,regressor.predict(X_train),color='blue')\n",
    "plt.title('Salary vs Experience(Test set)')\n",
    "plt.xlabel('Years of Experience')\n",
    "plt.ylabel('Salary')\n",
    "plt.show()"
   ]
  },
  {
   "cell_type": "code",
   "execution_count": 25,
   "metadata": {},
   "outputs": [
    {
     "name": "stdout",
     "output_type": "stream",
     "text": [
      "Mean Squared Error:  36852948.76438455\n",
      "Coefficient of Determination:  0.9381900012894278\n"
     ]
    }
   ],
   "source": [
    "# COMPARING SKLEARN LIBRARY VS IMPLEMENTATION FROM SCRATCH\n",
    "from sklearn.metrics import mean_squared_error,r2_score\n",
    "\n",
    "#Mean squared error regression loss\n",
    "print('Mean Squared Error: ',mean_squared_error(Y_train,regressor.predict(X_train)))\n",
    "\n",
    "#R squared score - Coefficient of determination\n",
    "print('Coefficient of Determination: ',r2_score(Y_train,regressor.predict(X_train)))"
   ]
  },
  {
   "cell_type": "code",
   "execution_count": null,
   "metadata": {},
   "outputs": [],
   "source": []
  }
 ],
 "metadata": {
  "kernelspec": {
   "display_name": "Python 3",
   "language": "python",
   "name": "python3"
  },
  "language_info": {
   "codemirror_mode": {
    "name": "ipython",
    "version": 3
   },
   "file_extension": ".py",
   "mimetype": "text/x-python",
   "name": "python",
   "nbconvert_exporter": "python",
   "pygments_lexer": "ipython3",
   "version": "3.6.7"
  }
 },
 "nbformat": 4,
 "nbformat_minor": 2
}

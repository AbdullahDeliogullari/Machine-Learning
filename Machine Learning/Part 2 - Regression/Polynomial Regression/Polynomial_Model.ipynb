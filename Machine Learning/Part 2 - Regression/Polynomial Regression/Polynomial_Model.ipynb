{
 "cells": [
  {
   "cell_type": "code",
   "execution_count": 9,
   "metadata": {},
   "outputs": [],
   "source": [
    "import math\n",
    "import numpy as np\n",
    "import matplotlib.pyplot as plt\n",
    "import pandas as pd"
   ]
  },
  {
   "cell_type": "code",
   "execution_count": 10,
   "metadata": {},
   "outputs": [],
   "source": [
    "class Polynomial_Regression():\n",
    "    def __init__(self):\n",
    "        self.__coefficients = None\n",
    "        self.__degree = 0\n",
    "    \n",
    "    # Sum of x ^ power\n",
    "    def power_sum(self,degree,x):\n",
    "        sum_x = np.zeros(2 * degree + 1)\n",
    "        for p in range(2 * degree + 1):\n",
    "            sum_x[p] = np.sum(x**p)\n",
    "        return sum_x\n",
    "    \n",
    "    # Creating Gauss-Jordan equation matrix\n",
    "    def equation_matrix(self,degree,x):\n",
    "        sum_x = self.power_sum(degree,x)\n",
    "        matrix = np.zeros((degree + 1,degree + 1))\n",
    "        \n",
    "        for i in range(degree + 1):\n",
    "            for j in range(degree + 1):\n",
    "                matrix[i][j] = sum_x[j + i]\n",
    "        return matrix\n",
    "    \n",
    "    # Creating Gauss-Jordan result matrix\n",
    "    def result_matrix(self,degree,x,y):\n",
    "        sum_y = np.zeros(degree + 1)\n",
    "        for p in range(degree + 1):\n",
    "            sum_y[p] = np.sum((x[n]**p) * y[n] for n in range(len(x)))\n",
    "        return sum_y\n",
    "    \n",
    "    # Finding polynomial coefficients\n",
    "    def fit(self,degree,x,y):\n",
    "        equation_matrix = self.equation_matrix(degree,x)\n",
    "        result_matrix = self.result_matrix(degree,x,y)\n",
    "        \n",
    "        self.__degree = degree\n",
    "        self.__coefficients = np.linalg.solve(equation_matrix,result_matrix)\n",
    "    \n",
    "    # Predict x values\n",
    "    def predict(self,x):\n",
    "        result = 0\n",
    "        for i in range(self.__degree + 1):\n",
    "            result = result + ((x**i) * self.__coefficients[i])\n",
    "        return result"
   ]
  },
  {
   "cell_type": "code",
   "execution_count": 11,
   "metadata": {},
   "outputs": [
    {
     "name": "stderr",
     "output_type": "stream",
     "text": [
      "c:\\users\\abdullahdeliogullari\\appdata\\local\\programs\\python\\python36\\lib\\site-packages\\ipykernel_launcher.py:27: DeprecationWarning: Calling np.sum(generator) is deprecated, and in the future will give a different result. Use np.sum(np.from_iter(generator)) or the python sum builtin instead.\n"
     ]
    }
   ],
   "source": [
    "#Importing the dataset\n",
    "dataset = pd.read_csv('Position_Salaries.csv')\n",
    "X=dataset.iloc[:,1:2].values\n",
    "Y=dataset.iloc[:,2].values\n",
    "\n",
    "# Reduce the dimentionality for validation\n",
    "# Place the data to x axis\n",
    "x = np.squeeze(X)\n",
    "y = np.squeeze(Y)\n",
    "\n",
    "pr = Polynomial_Regression()\n",
    "pr.fit(4,x,y)"
   ]
  },
  {
   "cell_type": "markdown",
   "metadata": {},
   "source": [
    "#Visualising the Polynomial Regression results\n",
    "X_grid = np.arange(min(x), max(x), 0.1)#for better graph\n",
    "X_grid = X_grid.reshape((len(X_grid), 1))\n",
    "plt.scatter(x, y, color = 'red')\n",
    "plt.plot(x,pr.predict(x))\n",
    "plt.title('Polynomial Regression')\n",
    "plt.xlabel('Position level')\n",
    "plt.ylabel('Salary')\n",
    "plt.show()"
   ]
  },
  {
   "cell_type": "code",
   "execution_count": 47,
   "metadata": {},
   "outputs": [
    {
     "data": {
      "image/png": "[encoded data removed]",
      "text/plain": [
       "<Figure size 432x288 with 1 Axes>"
      ]
     },
     "metadata": {
      "needs_background": "light"
     },
     "output_type": "display_data"
    },
    {
     "data": {
      "image/png": "[encoded data removed]",
      "text/plain": [
       "<Figure size 432x288 with 1 Axes>"
      ]
     },
     "metadata": {
      "needs_background": "light"
     },
     "output_type": "display_data"
    },
    {
     "data": {
      "text/plain": [
       "array([158862.45265155])"
      ]
     },
     "execution_count": 47,
     "metadata": {},
     "output_type": "execute_result"
    }
   ],
   "source": [
    "#Importing the dataset\n",
    "dataset = pd.read_csv('Position_Salaries.csv')\n",
    "X=dataset.iloc[:,1:2].values\n",
    "Y=dataset.iloc[:,2].values\n",
    "\n",
    "#Fitting Linear Regression to the dataset\n",
    "from sklearn.linear_model import LinearRegression\n",
    "lin_reg = LinearRegression()\n",
    "lin_reg.fit(X,Y)\n",
    "\n",
    "#Fitting Polynomial Regression to the dataset\n",
    "from sklearn.preprocessing import PolynomialFeatures\n",
    "poly_reg = PolynomialFeatures(degree=4)\n",
    "X_poly = poly_reg.fit_transform(X)\n",
    "poly_reg.fit(X_poly,Y)\n",
    "lin_reg_2 = LinearRegression()\n",
    "lin_reg_2.fit(X_poly,Y)\n",
    "\n",
    "#Visualising the Linear Regression results\n",
    "plt.scatter(X,Y,color = 'red')\n",
    "plt.plot(X,lin_reg.predict(X),color = 'blue')\n",
    "plt.title('Linear Regression')\n",
    "plt.ylabel('Salary')\n",
    "plt.show()\n",
    "\n",
    "#Visualising the Polynomial Regression results\n",
    "X_grid = np.arange(min(X), max(X), 0.1)#for better graph\n",
    "X_grid = X_grid.reshape((len(X_grid), 1))\n",
    "plt.scatter(X, Y, color = 'red')\n",
    "plt.plot(X,lin_reg_2.predict(poly_reg.fit_transform(X)))\n",
    "plt.title('Polynomial Regression')\n",
    "plt.xlabel('Position level')\n",
    "plt.ylabel('Salary')\n",
    "plt.show()\n",
    "\n",
    "#Predicting a new result with Linear Regression\n",
    "lin_reg.predict(np.reshape(6.5,(-1,1)))\n",
    "\n",
    "#Predicting a new result with Polynomial Regression\n",
    "lin_reg_2.predict(poly_reg.fit_transform(np.reshape(6.5,(-1,1))))"
   ]
  },
  {
   "cell_type": "code",
   "execution_count": null,
   "metadata": {},
   "outputs": [],
   "source": []
  },
  {
   "cell_type": "code",
   "execution_count": null,
   "metadata": {},
   "outputs": [],
   "source": []
  }
 ],
 "metadata": {
  "kernelspec": {
   "display_name": "Python 3",
   "language": "python",
   "name": "python3"
  },
  "language_info": {
   "codemirror_mode": {
    "name": "ipython",
    "version": 3
   },
   "file_extension": ".py",
   "mimetype": "text/x-python",
   "name": "python",
   "nbconvert_exporter": "python",
   "pygments_lexer": "ipython3",
   "version": "3.6.7"
  }
 },
 "nbformat": 4,
 "nbformat_minor": 2
}
